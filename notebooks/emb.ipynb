{
 "cells": [
  {
   "cell_type": "code",
   "execution_count": 1,
   "metadata": {},
   "outputs": [
    {
     "name": "stderr",
     "output_type": "stream",
     "text": [
      "/home/rhea/anaconda3/lib/python3.7/site-packages/statsmodels/tools/_testing.py:19: FutureWarning: pandas.util.testing is deprecated. Use the functions in the public API at pandas.testing instead.\n",
      "  import pandas.util.testing as tm\n"
     ]
    }
   ],
   "source": [
    "import jieba\n",
    "import jieba.posseg as pseg\n",
    "import numpy as np\n",
    "import pandas as pd\n",
    "import tensorflow as tf\n",
    "import tensorflow_hub as hub\n",
    "import matplotlib.pyplot as plt\n",
    "from sklearn.metrics import confusion_matrix\n",
    "import seaborn as sns"
   ]
  },
  {
   "cell_type": "code",
   "execution_count": 2,
   "metadata": {},
   "outputs": [],
   "source": [
    "pd.set_option(\"display.max_columns\", None)"
   ]
  },
  {
   "cell_type": "markdown",
   "metadata": {},
   "source": [
    "# load data"
   ]
  },
  {
   "cell_type": "code",
   "execution_count": 3,
   "metadata": {},
   "outputs": [],
   "source": [
    "train = pd.read_csv('../data/train.csv')\n",
    "test = pd.read_csv('../data/test.csv')"
   ]
  },
  {
   "cell_type": "code",
   "execution_count": 4,
   "metadata": {},
   "outputs": [
    {
     "data": {
      "text/html": [
       "<div>\n",
       "<style scoped>\n",
       "    .dataframe tbody tr th:only-of-type {\n",
       "        vertical-align: middle;\n",
       "    }\n",
       "\n",
       "    .dataframe tbody tr th {\n",
       "        vertical-align: top;\n",
       "    }\n",
       "\n",
       "    .dataframe thead th {\n",
       "        text-align: right;\n",
       "    }\n",
       "</style>\n",
       "<table border=\"1\" class=\"dataframe\">\n",
       "  <thead>\n",
       "    <tr style=\"text-align: right;\">\n",
       "      <th></th>\n",
       "      <th>stock_id</th>\n",
       "      <th>stock_name</th>\n",
       "      <th>event_date</th>\n",
       "      <th>TCRI(m/y)</th>\n",
       "      <th>importance</th>\n",
       "      <th>class</th>\n",
       "      <th>category</th>\n",
       "      <th>event_content</th>\n",
       "    </tr>\n",
       "  </thead>\n",
       "  <tbody>\n",
       "    <tr>\n",
       "      <th>0</th>\n",
       "      <td>1218</td>\n",
       "      <td>泰山</td>\n",
       "      <td>20190101</td>\n",
       "      <td>6(2018/09)</td>\n",
       "      <td>0</td>\n",
       "      <td>M_經營層</td>\n",
       "      <td>MT06_高管異動</td>\n",
       "      <td>發言人林俐婉內部調動，由江巍峰接任。</td>\n",
       "    </tr>\n",
       "    <tr>\n",
       "      <th>1</th>\n",
       "      <td>1503</td>\n",
       "      <td>士電</td>\n",
       "      <td>20190101</td>\n",
       "      <td>4(2018/09)</td>\n",
       "      <td>0</td>\n",
       "      <td>M_經營層</td>\n",
       "      <td>MT06_高管異動</td>\n",
       "      <td>內部稽核主管林志強內部調動，由莊文清接任。</td>\n",
       "    </tr>\n",
       "    <tr>\n",
       "      <th>2</th>\n",
       "      <td>1504</td>\n",
       "      <td>東元</td>\n",
       "      <td>20190101</td>\n",
       "      <td>4(2018/09)</td>\n",
       "      <td>0</td>\n",
       "      <td>M_經營層</td>\n",
       "      <td>MT06_高管異動</td>\n",
       "      <td>會計主管藍俊雄內部調動，由林鴻名接任。</td>\n",
       "    </tr>\n",
       "    <tr>\n",
       "      <th>3</th>\n",
       "      <td>1709</td>\n",
       "      <td>和益</td>\n",
       "      <td>20190101</td>\n",
       "      <td>5(2018/09)</td>\n",
       "      <td>0</td>\n",
       "      <td>M_經營層</td>\n",
       "      <td>MT06_高管異動</td>\n",
       "      <td>內部稽核主管游本詮內部調動，由曾筱茜接任。</td>\n",
       "    </tr>\n",
       "    <tr>\n",
       "      <th>4</th>\n",
       "      <td>1721</td>\n",
       "      <td>三晃</td>\n",
       "      <td>20190101</td>\n",
       "      <td>7(2018/09)</td>\n",
       "      <td>0</td>\n",
       "      <td>M_經營層</td>\n",
       "      <td>MT06_高管異動</td>\n",
       "      <td>財務經理洪廷宜內部調動，由王婷渝接任。</td>\n",
       "    </tr>\n",
       "    <tr>\n",
       "      <th>5</th>\n",
       "      <td>1817</td>\n",
       "      <td>凱撒衛</td>\n",
       "      <td>20190101</td>\n",
       "      <td>6(2018/09)</td>\n",
       "      <td>0</td>\n",
       "      <td>M_經營層</td>\n",
       "      <td>MT06_高管異動</td>\n",
       "      <td>研發主管吳政峰內部調動，由朱清立接任。</td>\n",
       "    </tr>\n",
       "    <tr>\n",
       "      <th>6</th>\n",
       "      <td>2064</td>\n",
       "      <td>晉椿</td>\n",
       "      <td>20190101</td>\n",
       "      <td>7(2018/09)</td>\n",
       "      <td>-1</td>\n",
       "      <td>M_經營層</td>\n",
       "      <td>MT06_高管異動</td>\n",
       "      <td>總經理高進義離職，由陳譽接任。發言人高進義離職，由陳譽接任。</td>\n",
       "    </tr>\n",
       "    <tr>\n",
       "      <th>7</th>\n",
       "      <td>2207</td>\n",
       "      <td>和泰車</td>\n",
       "      <td>20190101</td>\n",
       "      <td>4(2018/09)</td>\n",
       "      <td>0</td>\n",
       "      <td>M_經營層</td>\n",
       "      <td>MT02_董監異動</td>\n",
       "      <td>改派1董。董事大野勝仁(豐田自動車代表)卸任。董事長沼一生(豐田自動車代表)新任。</td>\n",
       "    </tr>\n",
       "    <tr>\n",
       "      <th>8</th>\n",
       "      <td>2330</td>\n",
       "      <td>台積電</td>\n",
       "      <td>20190101</td>\n",
       "      <td>1(2018/09)</td>\n",
       "      <td>-1</td>\n",
       "      <td>M_經營層</td>\n",
       "      <td>MT02_董監異動</td>\n",
       "      <td>辭任1董。獨立董事湯馬斯?延吉布斯卸任。</td>\n",
       "    </tr>\n",
       "    <tr>\n",
       "      <th>9</th>\n",
       "      <td>2357</td>\n",
       "      <td>華碩</td>\n",
       "      <td>20190101</td>\n",
       "      <td>2(2018/09)</td>\n",
       "      <td>0</td>\n",
       "      <td>M_經營層</td>\n",
       "      <td>MT06_高管異動</td>\n",
       "      <td>總經理沈振來內部調動，由胡書賓接任。</td>\n",
       "    </tr>\n",
       "  </tbody>\n",
       "</table>\n",
       "</div>"
      ],
      "text/plain": [
       "   stock_id      stock_name  event_date             TCRI(m/y)  importance  \\\n",
       "0      1218  泰山                20190101  6(2018/09)                     0   \n",
       "1      1503  士電                20190101  4(2018/09)                     0   \n",
       "2      1504  東元                20190101  4(2018/09)                     0   \n",
       "3      1709  和益                20190101  5(2018/09)                     0   \n",
       "4      1721  三晃                20190101  7(2018/09)                     0   \n",
       "5      1817   凱撒衛              20190101  6(2018/09)                     0   \n",
       "6      2064  晉椿                20190101  7(2018/09)                    -1   \n",
       "7      2207   和泰車              20190101  4(2018/09)                     0   \n",
       "8      2330   台積電              20190101  1(2018/09)                    -1   \n",
       "9      2357  華碩                20190101  2(2018/09)                     0   \n",
       "\n",
       "   class   category                              event_content  \n",
       "0  M_經營層  MT06_高管異動                         發言人林俐婉內部調動，由江巍峰接任。  \n",
       "1  M_經營層  MT06_高管異動                      內部稽核主管林志強內部調動，由莊文清接任。  \n",
       "2  M_經營層  MT06_高管異動                        會計主管藍俊雄內部調動，由林鴻名接任。  \n",
       "3  M_經營層  MT06_高管異動                      內部稽核主管游本詮內部調動，由曾筱茜接任。  \n",
       "4  M_經營層  MT06_高管異動                        財務經理洪廷宜內部調動，由王婷渝接任。  \n",
       "5  M_經營層  MT06_高管異動                        研發主管吳政峰內部調動，由朱清立接任。  \n",
       "6  M_經營層  MT06_高管異動             總經理高進義離職，由陳譽接任。發言人高進義離職，由陳譽接任。  \n",
       "7  M_經營層  MT02_董監異動  改派1董。董事大野勝仁(豐田自動車代表)卸任。董事長沼一生(豐田自動車代表)新任。  \n",
       "8  M_經營層  MT02_董監異動                       辭任1董。獨立董事湯馬斯?延吉布斯卸任。  \n",
       "9  M_經營層  MT06_高管異動                         總經理沈振來內部調動，由胡書賓接任。  "
      ]
     },
     "execution_count": 4,
     "metadata": {},
     "output_type": "execute_result"
    }
   ],
   "source": [
    "train.head(10)"
   ]
  },
  {
   "cell_type": "markdown",
   "metadata": {},
   "source": [
    "# plot"
   ]
  },
  {
   "cell_type": "code",
   "execution_count": 5,
   "metadata": {},
   "outputs": [
    {
     "data": {
      "text/plain": [
       "<matplotlib.axes._subplots.AxesSubplot at 0x7fcb47e2e810>"
      ]
     },
     "execution_count": 5,
     "metadata": {},
     "output_type": "execute_result"
    },
    {
     "data": {
      "image/png": "[encoded data removed]",
      "text/plain": [
       "<Figure size 432x288 with 1 Axes>"
      ]
     },
     "metadata": {
      "needs_background": "light"
     },
     "output_type": "display_data"
    }
   ],
   "source": [
    "(train['importance'].value_counts() / len(train)).sort_index().plot.bar(title='importance_counts')"
   ]
  },
  {
   "cell_type": "code",
   "execution_count": 6,
   "metadata": {},
   "outputs": [
    {
     "data": {
      "text/plain": [
       "<matplotlib.axes._subplots.AxesSubplot at 0x7fcb572b0910>"
      ]
     },
     "execution_count": 6,
     "metadata": {},
     "output_type": "execute_result"
    },
    {
     "data": {
      "image/png": "[encoded data removed]",
      "text/plain": [
       "<Figure size 576x288 with 1 Axes>"
      ]
     },
     "metadata": {
      "needs_background": "light"
     },
     "output_type": "display_data"
    }
   ],
   "source": [
    "class_map = {\n",
    "    'I_產業前景': 'industry',\n",
    "    'M_經營層': 'management',\n",
    "    'F_市場交易': 'market',\n",
    "    'R_危機': 'crisis',\n",
    "    'A_會計/財報分析': 'finance'\n",
    "}\n",
    "\n",
    "train['class'].map(class_map).value_counts().plot.bar(title='class_counnts', figsize=(8, 4))"
   ]
  },
  {
   "cell_type": "code",
   "execution_count": 7,
   "metadata": {},
   "outputs": [
    {
     "name": "stdout",
     "output_type": "stream",
     "text": [
      "M_經營層\n"
     ]
    },
    {
     "data": {
      "image/png": "[encoded data removed]",
      "text/plain": [
       "<Figure size 432x288 with 1 Axes>"
      ]
     },
     "metadata": {
      "needs_background": "light"
     },
     "output_type": "display_data"
    },
    {
     "name": "stdout",
     "output_type": "stream",
     "text": [
      "F_市場交易\n"
     ]
    },
    {
     "data": {
      "image/png": "[encoded data removed]",
      "text/plain": [
       "<Figure size 432x288 with 1 Axes>"
      ]
     },
     "metadata": {
      "needs_background": "light"
     },
     "output_type": "display_data"
    },
    {
     "name": "stdout",
     "output_type": "stream",
     "text": [
      "I_產業前景\n"
     ]
    },
    {
     "data": {
      "image/png": "[encoded data removed]",
      "text/plain": [
       "<Figure size 432x288 with 1 Axes>"
      ]
     },
     "metadata": {
      "needs_background": "light"
     },
     "output_type": "display_data"
    },
    {
     "name": "stdout",
     "output_type": "stream",
     "text": [
      "R_危機\n"
     ]
    },
    {
     "data": {
      "image/png": "[encoded data removed]",
      "text/plain": [
       "<Figure size 432x288 with 1 Axes>"
      ]
     },
     "metadata": {
      "needs_background": "light"
     },
     "output_type": "display_data"
    },
    {
     "name": "stdout",
     "output_type": "stream",
     "text": [
      "A_會計/財報分析\n"
     ]
    },
    {
     "data": {
      "image/png": "[encoded data removed]",
      "text/plain": [
       "<Figure size 432x288 with 1 Axes>"
      ]
     },
     "metadata": {
      "needs_background": "light"
     },
     "output_type": "display_data"
    }
   ],
   "source": [
    "for c in train['class'].unique():\n",
    "    print(c)\n",
    "    target = train[train['class'] == c]\n",
    "    target['importance'].value_counts().sort_index().plot.bar()\n",
    "    plt.show()"
   ]
  },
  {
   "cell_type": "markdown",
   "metadata": {},
   "source": [
    "# word segmentation"
   ]
  },
  {
   "cell_type": "code",
   "execution_count": 8,
   "metadata": {},
   "outputs": [
    {
     "data": {
      "text/html": [
       "<div>\n",
       "<style scoped>\n",
       "    .dataframe tbody tr th:only-of-type {\n",
       "        vertical-align: middle;\n",
       "    }\n",
       "\n",
       "    .dataframe tbody tr th {\n",
       "        vertical-align: top;\n",
       "    }\n",
       "\n",
       "    .dataframe thead th {\n",
       "        text-align: right;\n",
       "    }\n",
       "</style>\n",
       "<table border=\"1\" class=\"dataframe\">\n",
       "  <thead>\n",
       "    <tr style=\"text-align: right;\">\n",
       "      <th></th>\n",
       "      <th>stock_id</th>\n",
       "      <th>stock_name</th>\n",
       "      <th>event_date</th>\n",
       "      <th>TCRI(m/y)</th>\n",
       "      <th>importance</th>\n",
       "      <th>class</th>\n",
       "      <th>category</th>\n",
       "      <th>event_content</th>\n",
       "    </tr>\n",
       "  </thead>\n",
       "  <tbody>\n",
       "    <tr>\n",
       "      <th>0</th>\n",
       "      <td>1218</td>\n",
       "      <td>泰山</td>\n",
       "      <td>20190101</td>\n",
       "      <td>6(2018/09)</td>\n",
       "      <td>0</td>\n",
       "      <td>M_經營層</td>\n",
       "      <td>MT06_高管異動</td>\n",
       "      <td>發言人林俐婉內部調動，由江巍峰接任。</td>\n",
       "    </tr>\n",
       "    <tr>\n",
       "      <th>1</th>\n",
       "      <td>1503</td>\n",
       "      <td>士電</td>\n",
       "      <td>20190101</td>\n",
       "      <td>4(2018/09)</td>\n",
       "      <td>0</td>\n",
       "      <td>M_經營層</td>\n",
       "      <td>MT06_高管異動</td>\n",
       "      <td>內部稽核主管林志強內部調動，由莊文清接任。</td>\n",
       "    </tr>\n",
       "    <tr>\n",
       "      <th>2</th>\n",
       "      <td>1504</td>\n",
       "      <td>東元</td>\n",
       "      <td>20190101</td>\n",
       "      <td>4(2018/09)</td>\n",
       "      <td>0</td>\n",
       "      <td>M_經營層</td>\n",
       "      <td>MT06_高管異動</td>\n",
       "      <td>會計主管藍俊雄內部調動，由林鴻名接任。</td>\n",
       "    </tr>\n",
       "    <tr>\n",
       "      <th>3</th>\n",
       "      <td>1709</td>\n",
       "      <td>和益</td>\n",
       "      <td>20190101</td>\n",
       "      <td>5(2018/09)</td>\n",
       "      <td>0</td>\n",
       "      <td>M_經營層</td>\n",
       "      <td>MT06_高管異動</td>\n",
       "      <td>內部稽核主管游本詮內部調動，由曾筱茜接任。</td>\n",
       "    </tr>\n",
       "    <tr>\n",
       "      <th>4</th>\n",
       "      <td>1721</td>\n",
       "      <td>三晃</td>\n",
       "      <td>20190101</td>\n",
       "      <td>7(2018/09)</td>\n",
       "      <td>0</td>\n",
       "      <td>M_經營層</td>\n",
       "      <td>MT06_高管異動</td>\n",
       "      <td>財務經理洪廷宜內部調動，由王婷渝接任。</td>\n",
       "    </tr>\n",
       "    <tr>\n",
       "      <th>5</th>\n",
       "      <td>1817</td>\n",
       "      <td>凱撒衛</td>\n",
       "      <td>20190101</td>\n",
       "      <td>6(2018/09)</td>\n",
       "      <td>0</td>\n",
       "      <td>M_經營層</td>\n",
       "      <td>MT06_高管異動</td>\n",
       "      <td>研發主管吳政峰內部調動，由朱清立接任。</td>\n",
       "    </tr>\n",
       "    <tr>\n",
       "      <th>6</th>\n",
       "      <td>2064</td>\n",
       "      <td>晉椿</td>\n",
       "      <td>20190101</td>\n",
       "      <td>7(2018/09)</td>\n",
       "      <td>-1</td>\n",
       "      <td>M_經營層</td>\n",
       "      <td>MT06_高管異動</td>\n",
       "      <td>總經理高進義離職，由陳譽接任。發言人高進義離職，由陳譽接任。</td>\n",
       "    </tr>\n",
       "    <tr>\n",
       "      <th>7</th>\n",
       "      <td>2207</td>\n",
       "      <td>和泰車</td>\n",
       "      <td>20190101</td>\n",
       "      <td>4(2018/09)</td>\n",
       "      <td>0</td>\n",
       "      <td>M_經營層</td>\n",
       "      <td>MT02_董監異動</td>\n",
       "      <td>改派1董。董事大野勝仁(豐田自動車代表)卸任。董事長沼一生(豐田自動車代表)新任。</td>\n",
       "    </tr>\n",
       "    <tr>\n",
       "      <th>8</th>\n",
       "      <td>2330</td>\n",
       "      <td>台積電</td>\n",
       "      <td>20190101</td>\n",
       "      <td>1(2018/09)</td>\n",
       "      <td>-1</td>\n",
       "      <td>M_經營層</td>\n",
       "      <td>MT02_董監異動</td>\n",
       "      <td>辭任1董。獨立董事湯馬斯?延吉布斯卸任。</td>\n",
       "    </tr>\n",
       "    <tr>\n",
       "      <th>9</th>\n",
       "      <td>2357</td>\n",
       "      <td>華碩</td>\n",
       "      <td>20190101</td>\n",
       "      <td>2(2018/09)</td>\n",
       "      <td>0</td>\n",
       "      <td>M_經營層</td>\n",
       "      <td>MT06_高管異動</td>\n",
       "      <td>總經理沈振來內部調動，由胡書賓接任。</td>\n",
       "    </tr>\n",
       "  </tbody>\n",
       "</table>\n",
       "</div>"
      ],
      "text/plain": [
       "   stock_id      stock_name  event_date             TCRI(m/y)  importance  \\\n",
       "0      1218  泰山                20190101  6(2018/09)                     0   \n",
       "1      1503  士電                20190101  4(2018/09)                     0   \n",
       "2      1504  東元                20190101  4(2018/09)                     0   \n",
       "3      1709  和益                20190101  5(2018/09)                     0   \n",
       "4      1721  三晃                20190101  7(2018/09)                     0   \n",
       "5      1817   凱撒衛              20190101  6(2018/09)                     0   \n",
       "6      2064  晉椿                20190101  7(2018/09)                    -1   \n",
       "7      2207   和泰車              20190101  4(2018/09)                     0   \n",
       "8      2330   台積電              20190101  1(2018/09)                    -1   \n",
       "9      2357  華碩                20190101  2(2018/09)                     0   \n",
       "\n",
       "   class   category                              event_content  \n",
       "0  M_經營層  MT06_高管異動                         發言人林俐婉內部調動，由江巍峰接任。  \n",
       "1  M_經營層  MT06_高管異動                      內部稽核主管林志強內部調動，由莊文清接任。  \n",
       "2  M_經營層  MT06_高管異動                        會計主管藍俊雄內部調動，由林鴻名接任。  \n",
       "3  M_經營層  MT06_高管異動                      內部稽核主管游本詮內部調動，由曾筱茜接任。  \n",
       "4  M_經營層  MT06_高管異動                        財務經理洪廷宜內部調動，由王婷渝接任。  \n",
       "5  M_經營層  MT06_高管異動                        研發主管吳政峰內部調動，由朱清立接任。  \n",
       "6  M_經營層  MT06_高管異動             總經理高進義離職，由陳譽接任。發言人高進義離職，由陳譽接任。  \n",
       "7  M_經營層  MT02_董監異動  改派1董。董事大野勝仁(豐田自動車代表)卸任。董事長沼一生(豐田自動車代表)新任。  \n",
       "8  M_經營層  MT02_董監異動                       辭任1董。獨立董事湯馬斯?延吉布斯卸任。  \n",
       "9  M_經營層  MT06_高管異動                         總經理沈振來內部調動，由胡書賓接任。  "
      ]
     },
     "execution_count": 8,
     "metadata": {},
     "output_type": "execute_result"
    }
   ],
   "source": [
    "train.head(10)"
   ]
  },
  {
   "cell_type": "code",
   "execution_count": 9,
   "metadata": {},
   "outputs": [
    {
     "name": "stderr",
     "output_type": "stream",
     "text": [
      "Building prefix dict from the default dictionary ...\n",
      "Loading model from cache /tmp/jieba.cache\n",
      "Loading model cost 0.428 seconds.\n",
      "Prefix dict has been built successfully.\n"
     ]
    },
    {
     "name": "stdout",
     "output_type": "stream",
     "text": [
      "發言 v\n",
      "人 n\n",
      "林俐婉 nr\n",
      "內部 f\n",
      "調動 vn\n",
      "， x\n",
      "由 p\n",
      "江巍峰 nr\n",
      "接任 v\n",
      "。 x\n"
     ]
    }
   ],
   "source": [
    "# jieba.enable_parallel(8)\n",
    "\n",
    "corpus = train['event_content'][0]\n",
    "for word, flag in pseg.cut(corpus):\n",
    "    print(word, flag)"
   ]
  },
  {
   "cell_type": "code",
   "execution_count": 10,
   "metadata": {},
   "outputs": [],
   "source": [
    "def sentence_segment(x):\n",
    "    x = x.replace(',', '')\n",
    "    segment = pseg.cut(x)\n",
    "    return ' '.join([word for word, flag in segment])\n",
    "\n",
    "\n",
    "# train_corpus = train['event_content'].apply(sentence_segment)\n",
    "# test_corpus = test['event_content'].apply(sentence_segment)"
   ]
  },
  {
   "cell_type": "code",
   "execution_count": 11,
   "metadata": {},
   "outputs": [],
   "source": [
    "# read segmented data\n",
    "train = pd.read_csv(\"../data/train_with_segment.csv\")\n",
    "test = pd.read_csv('../data/test_with_segment.csv')\n",
    "train_corpus = train.corpus\n",
    "test_corpus = test.corpus"
   ]
  },
  {
   "cell_type": "code",
   "execution_count": 12,
   "metadata": {},
   "outputs": [
    {
     "name": "stdout",
     "output_type": "stream",
     "text": [
      "內部稽核主管游慧芬離職，由周昆伯接任。財務經理張碧真內部調動，由葉能律接任。會計主管張碧真內部調動，由葉能律接任。\n",
      "內部 稽核 主管 游慧芬 離職 ， 由 周昆伯 接任 。 財務 經理 張碧真 內部 調動 ， 由 葉能律 接任 。 會計 主管 張碧真 內部 調動 ， 由 葉能律 接任 。\n",
      "\n",
      "內部稽核主管游慧芬離職，由周昆伯接任。財務經理張碧真內部調動，由葉能律接任。會計主管張碧真內部調動，由葉能律接任。\n",
      "內部 稽核 主管 游慧芬 離職 ， 由 周昆伯 接任 。 財務 經理 張碧真 內部 調動 ， 由 葉能律 接任 。 會計 主管 張碧真 內部 調動 ， 由 葉能律 接任 。\n",
      "\n",
      "內部稽核主管張美惠內部調動，由林立人接任。\n",
      "內部 稽核 主管 張 美惠 內部 調動 ， 由 林立 人 接任 。\n",
      "\n",
      "永冠-KY隨著離岸風電大型鑄件需求持續增溫，2019年12月出貨勝過11月15,023噸，前11月出貨噸數達147,602噸，。年增23%；2020年出貨噸數目標則訂為19.6萬噸。此外，永冠配合客戶西門子歌美颯再生能源拿到海能風場風機訂。單，在台中港區租地建廠案，預計2020年第一季會向台中市政府提出建廠申請。另規畫2020年產業機械及注塑機等。非風電鑄件產能，將轉化為生產風電中小型鑄件，產品開發及認證需要時間，轉換效應會從2020年開始顯現。\n",
      "永冠 - KY 隨著 離岸 風電 大型 鑄件 需求 持續 增溫 ， 2019 年 12 月 出貨 勝 過 11 月 15023 噸 ， 前 11 月 出 貨噸數 達 147602 噸 ， 。 年 增 23 % ； 2020 年 出 貨噸數 目標 則 訂為 19.6 萬噸 。 此外 ， 永冠 配合 客戶 西 門子 歌美颯 再生能源 拿到 海能 風場 風機 訂 。 單 ， 在 台中港 區 租地 建廠 案 ， 預計 2020 年 第一季 會 向 台中市 政府 提出 建廠 申請 。 另 規畫 2020 年 產業 機械 及 注塑 機 等 。 非 風電 鑄件 產能 ， 將 轉化 為 生產 風電 中小型 鑄件 ， 產品 開發 及 認證 需要 時間 ， 轉換 效應會 從 2020 年 開始 顯現 。\n",
      "\n",
      "花仙子代理Swiss Diamond瑞士原裝頂級鑽石鍋，與全聯合作集點活動大獲成功，連續兩年獲利大增。展望今年，。雖然與全聯合作的檔期結束，將搶進個人清潔市場，初期以LPF為品牌先推出沐浴乳試水溫。花仙子也持續拓展中。國大陸、泰國、馬來西亞等地市場，今年也將推出更多新品牌，以及在地化的香味擴大地盤。\n",
      "花仙子 代理 Swiss   Diamond 瑞士 原裝 頂級 鑽 石鍋 ， 與 全聯 合作 集點 活動 大 獲 成功 ， 連續 兩年 獲利 大增 。 展望 今年 ， 。 雖然 與 全聯 合作 的 檔期 結束 ， 將 搶進 個人 清潔 市場 ， 初期 以 LPF 為 品牌 先 推出 沐浴乳 試水 溫 。 花仙子 也 持續 拓展 中 。 國大陸 、 泰國 、 馬來西亞 等 地 市場 ， 今年 也 將 推出 更多 新 品牌 ， 以及 在 地化 的 香味 擴 大地 盤 。\n",
      "\n"
     ]
    }
   ],
   "source": [
    "for i in range(5):\n",
    "    print(test['event_content'][i])\n",
    "    print(test_corpus[i])\n",
    "    print('')"
   ]
  },
  {
   "cell_type": "markdown",
   "metadata": {},
   "source": [
    "# Tokenizer"
   ]
  },
  {
   "cell_type": "code",
   "execution_count": 13,
   "metadata": {},
   "outputs": [],
   "source": [
    "max_words = 50000\n",
    "max_len = 100"
   ]
  },
  {
   "cell_type": "code",
   "execution_count": 14,
   "metadata": {},
   "outputs": [],
   "source": [
    "tokenizer = tf.keras.preprocessing.text.Tokenizer(num_words=max_words)"
   ]
  },
  {
   "cell_type": "code",
   "execution_count": 15,
   "metadata": {},
   "outputs": [],
   "source": [
    "tokenizer.fit_on_texts(train_corpus)"
   ]
  },
  {
   "cell_type": "code",
   "execution_count": 16,
   "metadata": {},
   "outputs": [],
   "source": [
    "train_features = tokenizer.texts_to_sequences(train_corpus)\n",
    "test_features = tokenizer.texts_to_sequences(test_corpus)"
   ]
  },
  {
   "cell_type": "code",
   "execution_count": 17,
   "metadata": {},
   "outputs": [
    {
     "name": "stdout",
     "output_type": "stream",
     "text": [
      "發言 人 林俐婉 內部 調動 ， 由 江巍峰 接任 。 \n",
      " [461, 39, 35452, 89, 148, 1, 32, 18729, 95, 2]\n",
      "\n",
      "內部 稽核 主管 林志強 內部 調動 ， 由 莊文清 接任 。 \n",
      " [89, 386, 144, 35453, 89, 148, 1, 32, 35454, 95, 2]\n",
      "\n",
      "會計 主管 藍俊雄 內部 調動 ， 由 林鴻名 接任 。 \n",
      " [426, 144, 35455, 89, 148, 1, 32, 35456, 95, 2]\n",
      "\n",
      "內部 稽核 主管 游本 詮內部 調動 ， 由 曾筱茜 接任 。 \n",
      " [89, 386, 144, 13536, 23649, 148, 1, 32, 23650, 95, 2]\n",
      "\n",
      "財務 經理 洪廷宜 內部 調動 ， 由 王婷渝 接任 。 \n",
      " [134, 168, 35457, 89, 148, 1, 32, 35458, 95, 2]\n",
      "\n"
     ]
    }
   ],
   "source": [
    "for sentence, indexs in zip(train_corpus[:5], train_features[:5]):\n",
    "    print(f'{sentence} \\n {indexs}')\n",
    "    print()"
   ]
  },
  {
   "cell_type": "markdown",
   "metadata": {},
   "source": [
    "# Padding "
   ]
  },
  {
   "cell_type": "code",
   "execution_count": 18,
   "metadata": {},
   "outputs": [
    {
     "data": {
      "text/plain": [
       "(array([2.1051e+04, 2.1190e+03, 4.2500e+02, 6.6000e+01, 2.5000e+01,\n",
       "        1.3000e+01, 2.0000e+00, 1.0000e+00, 0.0000e+00, 1.0000e+00]),\n",
       " array([   3. ,  177.1,  351.2,  525.3,  699.4,  873.5, 1047.6, 1221.7,\n",
       "        1395.8, 1569.9, 1744. ]),\n",
       " <a list of 10 Patch objects>)"
      ]
     },
     "execution_count": 18,
     "metadata": {},
     "output_type": "execute_result"
    },
    {
     "data": {
      "image/png": "[encoded data removed]",
      "text/plain": [
       "<Figure size 432x288 with 1 Axes>"
      ]
     },
     "metadata": {
      "needs_background": "light"
     },
     "output_type": "display_data"
    }
   ],
   "source": [
    "len_list = list(map(len, train_features))\n",
    "plt.hist(len_list)"
   ]
  },
  {
   "cell_type": "code",
   "execution_count": 19,
   "metadata": {},
   "outputs": [],
   "source": [
    "train_features = tf.keras.preprocessing.sequence.pad_sequences(train_features, max_len)\n",
    "test_features = tf.keras.preprocessing.sequence.pad_sequences(test_features, max_len)"
   ]
  },
  {
   "cell_type": "code",
   "execution_count": 20,
   "metadata": {},
   "outputs": [
    {
     "data": {
      "text/plain": [
       "(23703, 100)"
      ]
     },
     "execution_count": 20,
     "metadata": {},
     "output_type": "execute_result"
    }
   ],
   "source": [
    "train_features.shape"
   ]
  },
  {
   "cell_type": "code",
   "execution_count": 21,
   "metadata": {},
   "outputs": [
    {
     "name": "stdout",
     "output_type": "stream",
     "text": [
      "發言 人 林俐婉 內部 調動 ， 由 江巍峰 接任 。 \n",
      " [    0     0     0     0     0     0     0     0     0     0     0     0\n",
      "     0     0     0     0     0     0     0     0     0     0     0     0\n",
      "     0     0     0     0     0     0     0     0     0     0     0     0\n",
      "     0     0     0     0     0     0     0     0     0     0     0     0\n",
      "     0     0     0     0     0     0     0     0     0     0     0     0\n",
      "     0     0     0     0     0     0     0     0     0     0     0     0\n",
      "     0     0     0     0     0     0     0     0     0     0     0     0\n",
      "     0     0     0     0     0     0   461    39 35452    89   148     1\n",
      "    32 18729    95     2]\n",
      "\n",
      "內部 稽核 主管 林志強 內部 調動 ， 由 莊文清 接任 。 \n",
      " [    0     0     0     0     0     0     0     0     0     0     0     0\n",
      "     0     0     0     0     0     0     0     0     0     0     0     0\n",
      "     0     0     0     0     0     0     0     0     0     0     0     0\n",
      "     0     0     0     0     0     0     0     0     0     0     0     0\n",
      "     0     0     0     0     0     0     0     0     0     0     0     0\n",
      "     0     0     0     0     0     0     0     0     0     0     0     0\n",
      "     0     0     0     0     0     0     0     0     0     0     0     0\n",
      "     0     0     0     0     0    89   386   144 35453    89   148     1\n",
      "    32 35454    95     2]\n",
      "\n",
      "會計 主管 藍俊雄 內部 調動 ， 由 林鴻名 接任 。 \n",
      " [    0     0     0     0     0     0     0     0     0     0     0     0\n",
      "     0     0     0     0     0     0     0     0     0     0     0     0\n",
      "     0     0     0     0     0     0     0     0     0     0     0     0\n",
      "     0     0     0     0     0     0     0     0     0     0     0     0\n",
      "     0     0     0     0     0     0     0     0     0     0     0     0\n",
      "     0     0     0     0     0     0     0     0     0     0     0     0\n",
      "     0     0     0     0     0     0     0     0     0     0     0     0\n",
      "     0     0     0     0     0     0   426   144 35455    89   148     1\n",
      "    32 35456    95     2]\n",
      "\n",
      "內部 稽核 主管 游本 詮內部 調動 ， 由 曾筱茜 接任 。 \n",
      " [    0     0     0     0     0     0     0     0     0     0     0     0\n",
      "     0     0     0     0     0     0     0     0     0     0     0     0\n",
      "     0     0     0     0     0     0     0     0     0     0     0     0\n",
      "     0     0     0     0     0     0     0     0     0     0     0     0\n",
      "     0     0     0     0     0     0     0     0     0     0     0     0\n",
      "     0     0     0     0     0     0     0     0     0     0     0     0\n",
      "     0     0     0     0     0     0     0     0     0     0     0     0\n",
      "     0     0     0     0     0    89   386   144 13536 23649   148     1\n",
      "    32 23650    95     2]\n",
      "\n",
      "財務 經理 洪廷宜 內部 調動 ， 由 王婷渝 接任 。 \n",
      " [    0     0     0     0     0     0     0     0     0     0     0     0\n",
      "     0     0     0     0     0     0     0     0     0     0     0     0\n",
      "     0     0     0     0     0     0     0     0     0     0     0     0\n",
      "     0     0     0     0     0     0     0     0     0     0     0     0\n",
      "     0     0     0     0     0     0     0     0     0     0     0     0\n",
      "     0     0     0     0     0     0     0     0     0     0     0     0\n",
      "     0     0     0     0     0     0     0     0     0     0     0     0\n",
      "     0     0     0     0     0     0   134   168 35457    89   148     1\n",
      "    32 35458    95     2]\n",
      "\n"
     ]
    }
   ],
   "source": [
    "for sentence, indexs in zip(train_corpus[:5], train_features[:5]):\n",
    "    print(f'{sentence} \\n {indexs}')\n",
    "    print()"
   ]
  },
  {
   "cell_type": "markdown",
   "metadata": {},
   "source": [
    "# Label"
   ]
  },
  {
   "cell_type": "code",
   "execution_count": 22,
   "metadata": {},
   "outputs": [],
   "source": [
    "train_labels = train['importance'].values.copy()\n",
    "test_labels = test['importance'].values.copy()"
   ]
  },
  {
   "cell_type": "code",
   "execution_count": 23,
   "metadata": {},
   "outputs": [],
   "source": [
    "train_labels += 3\n",
    "test_labels += 3"
   ]
  },
  {
   "cell_type": "code",
   "execution_count": 24,
   "metadata": {},
   "outputs": [
    {
     "name": "stdout",
     "output_type": "stream",
     "text": [
      "number of classes 7\n"
     ]
    }
   ],
   "source": [
    "classes = len(set(train_labels))\n",
    "print('number of classes', classes)"
   ]
  },
  {
   "cell_type": "code",
   "execution_count": null,
   "metadata": {},
   "outputs": [],
   "source": []
  },
  {
   "cell_type": "markdown",
   "metadata": {},
   "source": [
    "# tf Dataset"
   ]
  },
  {
   "cell_type": "code",
   "execution_count": 25,
   "metadata": {},
   "outputs": [],
   "source": [
    "train_ds = tf.data.Dataset.from_tensor_slices((train_features, train_labels)).shuffle(10000).batch(256)\n",
    "test_ds = tf.data.Dataset.from_tensor_slices((test_features, test_labels)).batch(256)"
   ]
  },
  {
   "cell_type": "code",
   "execution_count": 26,
   "metadata": {},
   "outputs": [
    {
     "name": "stdout",
     "output_type": "stream",
     "text": [
      "Train data shape: (23703, 100)\n",
      "Test data shape (13014, 100)\n"
     ]
    }
   ],
   "source": [
    "print('Train data shape:', train_features.shape)\n",
    "print('Test data shape', test_features.shape)"
   ]
  },
  {
   "cell_type": "markdown",
   "metadata": {},
   "source": [
    "# Model"
   ]
  },
  {
   "cell_type": "code",
   "execution_count": 27,
   "metadata": {},
   "outputs": [],
   "source": [
    "word_vec_dims = 100"
   ]
  },
  {
   "cell_type": "code",
   "execution_count": 28,
   "metadata": {},
   "outputs": [],
   "source": [
    "class Model(tf.keras.Model):\n",
    "    def __init__(self):\n",
    "        super(Model, self).__init__()\n",
    "        self.embedding = tf.keras.layers.Embedding(max_words, word_vec_dims)\n",
    "        self.gru1 = tf.keras.layers.Bidirectional(tf.keras.layers.GRU(word_vec_dims, return_sequences=True))\n",
    "        self.gru2 = tf.keras.layers.GRU(128, dropout=0.5)\n",
    "        self.fc1 = tf.keras.layers.Dense(512, activation='relu')\n",
    "        self.fc2 = tf.keras.layers.Dense(128, activation='relu')\n",
    "        self.fc3 = tf.keras.layers.Dense(classes, activation='softmax')\n",
    "    def call(self, inputs):\n",
    "        x = self.embedding(inputs)\n",
    "        x = self.gru1(x)\n",
    "        x = self.gru2(x)\n",
    "        x = tf.nn.dropout(self.fc1(x), 0.5)\n",
    "        x = tf.nn.dropout(self.fc2(x), 0.5)\n",
    "        x = self.fc3(x)\n",
    "        return x"
   ]
  },
  {
   "cell_type": "code",
   "execution_count": 29,
   "metadata": {},
   "outputs": [],
   "source": [
    "early_stopping = tf.keras.callbacks.EarlyStopping(\n",
    "    monitor='val_accuracy', \n",
    "    verbose=1,\n",
    "    patience=3,\n",
    "    mode='max',\n",
    "    restore_best_weights=True)"
   ]
  },
  {
   "cell_type": "code",
   "execution_count": 30,
   "metadata": {},
   "outputs": [],
   "source": [
    "model = Model()\n",
    "loss = tf.keras.losses.SparseCategoricalCrossentropy()\n",
    "optimizer = tf.keras.optimizers.Adam(learning_rate=1e-4)\n",
    "model.compile(optimizer=optimizer, loss=loss, metrics=['accuracy'])"
   ]
  },
  {
   "cell_type": "code",
   "execution_count": 31,
   "metadata": {},
   "outputs": [
    {
     "name": "stdout",
     "output_type": "stream",
     "text": [
      "Epoch 1/50\n",
      "93/93 [==============================] - 25s 272ms/step - loss: 1.5724 - accuracy: 0.4434 - val_loss: 1.0416 - val_accuracy: 0.5635\n",
      "Epoch 2/50\n",
      "93/93 [==============================] - 25s 268ms/step - loss: 1.0143 - accuracy: 0.5912 - val_loss: 0.6128 - val_accuracy: 0.7459\n",
      "Epoch 3/50\n",
      "93/93 [==============================] - 25s 269ms/step - loss: 0.6475 - accuracy: 0.7762 - val_loss: 0.4889 - val_accuracy: 0.8497\n",
      "Epoch 4/50\n",
      "93/93 [==============================] - 25s 268ms/step - loss: 0.4657 - accuracy: 0.8442 - val_loss: 0.4358 - val_accuracy: 0.8602\n",
      "Epoch 5/50\n",
      "93/93 [==============================] - 25s 268ms/step - loss: 0.3802 - accuracy: 0.8722 - val_loss: 0.4170 - val_accuracy: 0.8672\n",
      "Epoch 6/50\n",
      "93/93 [==============================] - 25s 270ms/step - loss: 0.3185 - accuracy: 0.8954 - val_loss: 0.4408 - val_accuracy: 0.8708\n",
      "Epoch 7/50\n",
      "93/93 [==============================] - 25s 269ms/step - loss: 0.2692 - accuracy: 0.9137 - val_loss: 0.4553 - val_accuracy: 0.8693\n",
      "Epoch 8/50\n",
      "93/93 [==============================] - 25s 270ms/step - loss: 0.2299 - accuracy: 0.9298 - val_loss: 0.4655 - val_accuracy: 0.8738\n",
      "Epoch 9/50\n",
      "93/93 [==============================] - 25s 268ms/step - loss: 0.1930 - accuracy: 0.9412 - val_loss: 0.5238 - val_accuracy: 0.8670\n",
      "Epoch 10/50\n",
      "93/93 [==============================] - 25s 267ms/step - loss: 0.1735 - accuracy: 0.9486 - val_loss: 0.5719 - val_accuracy: 0.8665\n",
      "Epoch 11/50\n",
      "93/93 [==============================] - ETA: 0s - loss: 0.1517 - accuracy: 0.9550Restoring model weights from the end of the best epoch.\n",
      "93/93 [==============================] - 25s 268ms/step - loss: 0.1517 - accuracy: 0.9550 - val_loss: 0.5659 - val_accuracy: 0.8635\n",
      "Epoch 00011: early stopping\n"
     ]
    }
   ],
   "source": [
    "history = model.fit(train_ds, epochs=50, validation_data=test_ds, callbacks=[early_stopping])"
   ]
  },
  {
   "cell_type": "code",
   "execution_count": 32,
   "metadata": {},
   "outputs": [
    {
     "name": "stdout",
     "output_type": "stream",
     "text": [
      "Model: \"model\"\n",
      "_________________________________________________________________\n",
      "Layer (type)                 Output Shape              Param #   \n",
      "=================================================================\n",
      "embedding (Embedding)        multiple                  5000000   \n",
      "_________________________________________________________________\n",
      "bidirectional (Bidirectional multiple                  121200    \n",
      "_________________________________________________________________\n",
      "gru_1 (GRU)                  multiple                  126720    \n",
      "_________________________________________________________________\n",
      "dense (Dense)                multiple                  66048     \n",
      "_________________________________________________________________\n",
      "dense_1 (Dense)              multiple                  65664     \n",
      "_________________________________________________________________\n",
      "dense_2 (Dense)              multiple                  903       \n",
      "=================================================================\n",
      "Total params: 5,380,535\n",
      "Trainable params: 5,380,535\n",
      "Non-trainable params: 0\n",
      "_________________________________________________________________\n"
     ]
    }
   ],
   "source": [
    "model.summary()"
   ]
  },
  {
   "cell_type": "code",
   "execution_count": 49,
   "metadata": {},
   "outputs": [],
   "source": [
    "y_pred = tf.argmax(model.predict(test_features), axis=1) - 3\n",
    "y_true = test['importance']"
   ]
  },
  {
   "cell_type": "code",
   "execution_count": 50,
   "metadata": {},
   "outputs": [],
   "source": [
    "cm = confusion_matrix(y_true, y_pred, labels=y_true.unique(), normalize='all')"
   ]
  },
  {
   "cell_type": "code",
   "execution_count": 51,
   "metadata": {},
   "outputs": [
    {
     "data": {
      "text/plain": [
       "<matplotlib.axes._subplots.AxesSubplot at 0x7fcae01e9fd0>"
      ]
     },
     "execution_count": 51,
     "metadata": {},
     "output_type": "execute_result"
    },
    {
     "data": {
      "image/png": "[encoded data removed]",
      "text/plain": [
       "<Figure size 432x288 with 2 Axes>"
      ]
     },
     "metadata": {
      "needs_background": "light"
     },
     "output_type": "display_data"
    }
   ],
   "source": [
    "sns.heatmap(cm, annot=True)"
   ]
  },
  {
   "cell_type": "code",
   "execution_count": null,
   "metadata": {},
   "outputs": [],
   "source": []
  }
 ],
 "metadata": {
  "kernelspec": {
   "display_name": "Python 3",
   "language": "python",
   "name": "python3"
  },
  "language_info": {
   "codemirror_mode": {
    "name": "ipython",
    "version": 3
   },
   "file_extension": ".py",
   "mimetype": "text/x-python",
   "name": "python",
   "nbconvert_exporter": "python",
   "pygments_lexer": "ipython3",
   "version": "3.7.4"
  }
 },
 "nbformat": 4,
 "nbformat_minor": 4
}
