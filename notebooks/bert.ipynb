{
 "cells": [
  {
   "cell_type": "code",
   "execution_count": 1,
   "metadata": {},
   "outputs": [],
   "source": [
    "import json\n",
    "import pandas as pd\n",
    "import numpy as np\n",
    "import tensorflow as tf\n",
    "import tensorflow_hub as hub\n",
    "import bert\n",
    "from datetime import datetime"
   ]
  },
  {
   "cell_type": "code",
   "execution_count": 2,
   "metadata": {},
   "outputs": [],
   "source": [
    "train = pd.read_csv('../data/train.csv')\n",
    "test = pd.read_csv('../data/test.csv')"
   ]
  },
  {
   "cell_type": "code",
   "execution_count": 3,
   "metadata": {},
   "outputs": [
    {
     "data": {
      "text/html": [
       "<div>\n",
       "<style scoped>\n",
       "    .dataframe tbody tr th:only-of-type {\n",
       "        vertical-align: middle;\n",
       "    }\n",
       "\n",
       "    .dataframe tbody tr th {\n",
       "        vertical-align: top;\n",
       "    }\n",
       "\n",
       "    .dataframe thead th {\n",
       "        text-align: right;\n",
       "    }\n",
       "</style>\n",
       "<table border=\"1\" class=\"dataframe\">\n",
       "  <thead>\n",
       "    <tr style=\"text-align: right;\">\n",
       "      <th></th>\n",
       "      <th>stock_id</th>\n",
       "      <th>stock_name</th>\n",
       "      <th>event_date</th>\n",
       "      <th>TCRI(m/y)</th>\n",
       "      <th>importance</th>\n",
       "      <th>class</th>\n",
       "      <th>category</th>\n",
       "      <th>event_content</th>\n",
       "    </tr>\n",
       "  </thead>\n",
       "  <tbody>\n",
       "    <tr>\n",
       "      <th>0</th>\n",
       "      <td>1218</td>\n",
       "      <td>泰山</td>\n",
       "      <td>20190101</td>\n",
       "      <td>6(2018/09)</td>\n",
       "      <td>0</td>\n",
       "      <td>M_經營層</td>\n",
       "      <td>MT06_高管異動</td>\n",
       "      <td>發言人林俐婉內部調動，由江巍峰接任。</td>\n",
       "    </tr>\n",
       "    <tr>\n",
       "      <th>1</th>\n",
       "      <td>1503</td>\n",
       "      <td>士電</td>\n",
       "      <td>20190101</td>\n",
       "      <td>4(2018/09)</td>\n",
       "      <td>0</td>\n",
       "      <td>M_經營層</td>\n",
       "      <td>MT06_高管異動</td>\n",
       "      <td>內部稽核主管林志強內部調動，由莊文清接任。</td>\n",
       "    </tr>\n",
       "    <tr>\n",
       "      <th>2</th>\n",
       "      <td>1504</td>\n",
       "      <td>東元</td>\n",
       "      <td>20190101</td>\n",
       "      <td>4(2018/09)</td>\n",
       "      <td>0</td>\n",
       "      <td>M_經營層</td>\n",
       "      <td>MT06_高管異動</td>\n",
       "      <td>會計主管藍俊雄內部調動，由林鴻名接任。</td>\n",
       "    </tr>\n",
       "    <tr>\n",
       "      <th>3</th>\n",
       "      <td>1709</td>\n",
       "      <td>和益</td>\n",
       "      <td>20190101</td>\n",
       "      <td>5(2018/09)</td>\n",
       "      <td>0</td>\n",
       "      <td>M_經營層</td>\n",
       "      <td>MT06_高管異動</td>\n",
       "      <td>內部稽核主管游本詮內部調動，由曾筱茜接任。</td>\n",
       "    </tr>\n",
       "    <tr>\n",
       "      <th>4</th>\n",
       "      <td>1721</td>\n",
       "      <td>三晃</td>\n",
       "      <td>20190101</td>\n",
       "      <td>7(2018/09)</td>\n",
       "      <td>0</td>\n",
       "      <td>M_經營層</td>\n",
       "      <td>MT06_高管異動</td>\n",
       "      <td>財務經理洪廷宜內部調動，由王婷渝接任。</td>\n",
       "    </tr>\n",
       "    <tr>\n",
       "      <th>...</th>\n",
       "      <td>...</td>\n",
       "      <td>...</td>\n",
       "      <td>...</td>\n",
       "      <td>...</td>\n",
       "      <td>...</td>\n",
       "      <td>...</td>\n",
       "      <td>...</td>\n",
       "      <td>...</td>\n",
       "    </tr>\n",
       "    <tr>\n",
       "      <th>23698</th>\n",
       "      <td>6715</td>\n",
       "      <td>嘉基</td>\n",
       "      <td>20191231</td>\n",
       "      <td>6(2019/09)</td>\n",
       "      <td>1</td>\n",
       "      <td>I_產業前景</td>\n",
       "      <td>IS01_營收變動或客戶/商品/通路策略</td>\n",
       "      <td>2018年09月累計營收1,496,639千元，年增162%。2018年09月單月營收161...</td>\n",
       "    </tr>\n",
       "    <tr>\n",
       "      <th>23699</th>\n",
       "      <td>6736</td>\n",
       "      <td>碩辣椒</td>\n",
       "      <td>20191231</td>\n",
       "      <td></td>\n",
       "      <td>-1</td>\n",
       "      <td>F_市場交易</td>\n",
       "      <td>FS02_股價暴跌或異常</td>\n",
       "      <td>2019/12/31收盤價35.00元，月報酬下跌43%。</td>\n",
       "    </tr>\n",
       "    <tr>\n",
       "      <th>23700</th>\n",
       "      <td>8028</td>\n",
       "      <td>昇陽半導體</td>\n",
       "      <td>20191231</td>\n",
       "      <td>6(2019/09)</td>\n",
       "      <td>0</td>\n",
       "      <td>I_產業前景</td>\n",
       "      <td>IS01_營收變動或客戶/商品/通路策略</td>\n",
       "      <td>世界先進評估跨足晶圓薄化領域，搶進晶圓薄化市場機率高。晶圓薄化是晶圓製造後到封裝之間的一個重...</td>\n",
       "    </tr>\n",
       "    <tr>\n",
       "      <th>23701</th>\n",
       "      <td>8033</td>\n",
       "      <td>雷虎</td>\n",
       "      <td>20191231</td>\n",
       "      <td>8(2019/09)</td>\n",
       "      <td>0</td>\n",
       "      <td>I_產業前景</td>\n",
       "      <td>IF03_財務協議/糾紛</td>\n",
       "      <td>1.雷虎科技與香港中澤文化投資股份有限公司仲裁案號(補充公告)：雷虎科技將子公司英屬維京群島...</td>\n",
       "    </tr>\n",
       "    <tr>\n",
       "      <th>23702</th>\n",
       "      <td>8482</td>\n",
       "      <td>商億-KY</td>\n",
       "      <td>20191231</td>\n",
       "      <td>5(2019/09)</td>\n",
       "      <td>0</td>\n",
       "      <td>I_產業前景</td>\n",
       "      <td>IF02_投資/併購/組織策略</td>\n",
       "      <td>商億-KY公告董事會為配合柬埔寨孫公司發展需求，擬透過子公司Shayne Internati...</td>\n",
       "    </tr>\n",
       "  </tbody>\n",
       "</table>\n",
       "<p>23703 rows × 8 columns</p>\n",
       "</div>"
      ],
      "text/plain": [
       "       stock_id      stock_name  event_date             TCRI(m/y)  importance  \\\n",
       "0          1218  泰山                20190101  6(2018/09)                     0   \n",
       "1          1503  士電                20190101  4(2018/09)                     0   \n",
       "2          1504  東元                20190101  4(2018/09)                     0   \n",
       "3          1709  和益                20190101  5(2018/09)                     0   \n",
       "4          1721  三晃                20190101  7(2018/09)                     0   \n",
       "...         ...             ...         ...                   ...         ...   \n",
       "23698      6715  嘉基                20191231  6(2019/09)                     1   \n",
       "23699      6736   碩辣椒              20191231                                -1   \n",
       "23700      8028     昇陽半導體          20191231  6(2019/09)                     0   \n",
       "23701      8033  雷虎                20191231  8(2019/09)                     0   \n",
       "23702      8482  商億-KY             20191231  5(2019/09)                     0   \n",
       "\n",
       "        class              category  \\\n",
       "0       M_經營層             MT06_高管異動   \n",
       "1       M_經營層             MT06_高管異動   \n",
       "2       M_經營層             MT06_高管異動   \n",
       "3       M_經營層             MT06_高管異動   \n",
       "4       M_經營層             MT06_高管異動   \n",
       "...       ...                   ...   \n",
       "23698  I_產業前景  IS01_營收變動或客戶/商品/通路策略   \n",
       "23699  F_市場交易          FS02_股價暴跌或異常   \n",
       "23700  I_產業前景  IS01_營收變動或客戶/商品/通路策略   \n",
       "23701  I_產業前景          IF03_財務協議/糾紛   \n",
       "23702  I_產業前景       IF02_投資/併購/組織策略   \n",
       "\n",
       "                                           event_content  \n",
       "0                                     發言人林俐婉內部調動，由江巍峰接任。  \n",
       "1                                  內部稽核主管林志強內部調動，由莊文清接任。  \n",
       "2                                    會計主管藍俊雄內部調動，由林鴻名接任。  \n",
       "3                                  內部稽核主管游本詮內部調動，由曾筱茜接任。  \n",
       "4                                    財務經理洪廷宜內部調動，由王婷渝接任。  \n",
       "...                                                  ...  \n",
       "23698  2018年09月累計營收1,496,639千元，年增162%。2018年09月單月營收161...  \n",
       "23699                      2019/12/31收盤價35.00元，月報酬下跌43%。  \n",
       "23700  世界先進評估跨足晶圓薄化領域，搶進晶圓薄化市場機率高。晶圓薄化是晶圓製造後到封裝之間的一個重...  \n",
       "23701  1.雷虎科技與香港中澤文化投資股份有限公司仲裁案號(補充公告)：雷虎科技將子公司英屬維京群島...  \n",
       "23702  商億-KY公告董事會為配合柬埔寨孫公司發展需求，擬透過子公司Shayne Internati...  \n",
       "\n",
       "[23703 rows x 8 columns]"
      ]
     },
     "execution_count": 3,
     "metadata": {},
     "output_type": "execute_result"
    }
   ],
   "source": [
    "train"
   ]
  },
  {
   "cell_type": "code",
   "execution_count": 4,
   "metadata": {},
   "outputs": [],
   "source": [
    "val_size = int(len(test)/2)\n",
    "val = test[:val_size].reset_index(drop=True)\n",
    "test = test[val_size:].reset_index(drop=True)"
   ]
  },
  {
   "cell_type": "markdown",
   "metadata": {},
   "source": [
    "# Tokenizer"
   ]
  },
  {
   "cell_type": "code",
   "execution_count": 5,
   "metadata": {},
   "outputs": [],
   "source": [
    "tokenizer = bert.bert_tokenization.FullTokenizer(vocab_file='../model/bert_zh_L-12_H-768_A-12_2/assets/vocab.txt')"
   ]
  },
  {
   "cell_type": "code",
   "execution_count": 6,
   "metadata": {},
   "outputs": [
    {
     "name": "stdout",
     "output_type": "stream",
     "text": [
      "Size of dictionary: 21128\n"
     ]
    }
   ],
   "source": [
    "vocab = tokenizer.vocab\n",
    "print('Size of dictionary:', len(vocab))"
   ]
  },
  {
   "cell_type": "code",
   "execution_count": 7,
   "metadata": {},
   "outputs": [
    {
     "name": "stdout",
     "output_type": "stream",
     "text": [
      "token               index          \n",
      "-------------------------\n",
      "遁                    6875\n",
      "黝                    7952\n",
      "盖                    4667\n",
      "survey               8704\n",
      "繭                    5259\n",
      "##垂                 14852\n",
      "##陶                 20435\n",
      "##葺                 18937\n",
      "秣                    4910\n",
      "iso9001              9727\n",
      "262                 10975\n",
      "##ᆻ                 13487\n",
      "钼                    7184\n",
      "20000                8875\n",
      "##斥                 16223\n",
      "##gc                10817\n",
      "##嗆                 14676\n",
      "##憧                 15792\n",
      "pinterest            8379\n",
      "煅                    4199\n"
     ]
    }
   ],
   "source": [
    "import random\n",
    "random_tokens = random.sample(list(vocab), 20)\n",
    "random_ids = [vocab[t] for t in random_tokens]\n",
    "\n",
    "print(\"{0:20}{1:15}\".format(\"token\", \"index\"))\n",
    "print(\"-\" * 25)\n",
    "for t, id in zip(random_tokens, random_ids):\n",
    "    print(\"{0:15}{1:10}\".format(t, id))"
   ]
  },
  {
   "cell_type": "markdown",
   "metadata": {},
   "source": [
    "# Data pre-processing"
   ]
  },
  {
   "cell_type": "code",
   "execution_count": 8,
   "metadata": {},
   "outputs": [
    {
     "name": "stdout",
     "output_type": "stream",
     "text": [
      "sentence: 發言人林俐婉內部調動，由江巍峰接任。\n",
      "tokens: ['[CLS]', '發', '言', '人', '林', '俐', '婉', '內', '部', '調', '動', '，', '由', '江', '巍', '峰', '接', '任', '。', '[SEP]']\n",
      "input ids: [101, 4634, 6241, 782, 3360, 919, 2039, 1058, 6956, 6310, 1240, 8024, 4507, 3736, 2331, 2292, 2970, 818, 511, 102]\n",
      "segment ids: [0, 0, 0, 0, 0, 0, 0, 0, 0, 0, 0, 0, 0, 0, 0, 0, 0, 0, 0, 0]\n",
      "mask_ids: [1, 1, 1, 1, 1, 1, 1, 1, 1, 1, 1, 1, 1, 1, 1, 1, 1, 1, 1, 1]\n",
      "\n",
      "sentence: 內部稽核主管林志強內部調動，由莊文清接任。\n",
      "tokens: ['[CLS]', '內', '部', '稽', '核', '主', '管', '林', '志', '強', '內', '部', '調', '動', '，', '由', '莊', '文', '清', '接', '任', '。', '[SEP]']\n",
      "input ids: [101, 1058, 6956, 4942, 3417, 712, 5052, 3360, 2562, 2485, 1058, 6956, 6310, 1240, 8024, 4507, 5800, 3152, 3926, 2970, 818, 511, 102]\n",
      "segment ids: [0, 0, 0, 0, 0, 0, 0, 0, 0, 0, 0, 0, 0, 0, 0, 0, 0, 0, 0, 0, 0, 0, 0]\n",
      "mask_ids: [1, 1, 1, 1, 1, 1, 1, 1, 1, 1, 1, 1, 1, 1, 1, 1, 1, 1, 1, 1, 1, 1, 1]\n",
      "\n",
      "sentence: 會計主管藍俊雄內部調動，由林鴻名接任。\n",
      "tokens: ['[CLS]', '會', '計', '主', '管', '藍', '俊', '雄', '內', '部', '調', '動', '，', '由', '林', '鴻', '名', '接', '任', '。', '[SEP]']\n",
      "input ids: [101, 3298, 6243, 712, 5052, 5965, 916, 7413, 1058, 6956, 6310, 1240, 8024, 4507, 3360, 7862, 1399, 2970, 818, 511, 102]\n",
      "segment ids: [0, 0, 0, 0, 0, 0, 0, 0, 0, 0, 0, 0, 0, 0, 0, 0, 0, 0, 0, 0, 0]\n",
      "mask_ids: [1, 1, 1, 1, 1, 1, 1, 1, 1, 1, 1, 1, 1, 1, 1, 1, 1, 1, 1, 1, 1]\n",
      "\n"
     ]
    }
   ],
   "source": [
    "for sentence in train['event_content'][:3]:\n",
    "    tokens = [\"[CLS]\"] + tokenizer.tokenize(sentence) + ['[SEP]']\n",
    "    \n",
    "    input_ids = tokenizer.convert_tokens_to_ids(tokens)\n",
    "    segment_ids = [0] * len(input_ids)\n",
    "    mask_ids = [1] * len(input_ids)\n",
    "    print('sentence:', sentence)\n",
    "    print('tokens:', tokens)\n",
    "    print('input ids:', input_ids)\n",
    "    print('segment ids:', segment_ids)\n",
    "    print('mask_ids:', mask_ids)\n",
    "    print()"
   ]
  },
  {
   "cell_type": "code",
   "execution_count": 9,
   "metadata": {},
   "outputs": [],
   "source": [
    "def create_inputs(sentences, tokenizer, maxlen=None):\n",
    "    input_ids = []\n",
    "    segment_ids = []\n",
    "    mask_ids = []\n",
    "    for sentence in sentences:\n",
    "        tokens = [\"[CLS]\"] + tokenizer.tokenize(sentence) + ['[SEP]']\n",
    "\n",
    "        inputs = tokenizer.convert_tokens_to_ids(tokens)\n",
    "        segments = [0] * len(input_ids)\n",
    "        masks = [1] * len(input_ids)\n",
    "        \n",
    "        input_ids.append(inputs)\n",
    "        segment_ids.append(segments)\n",
    "        mask_ids.append(masks)\n",
    "        \n",
    "    input_ids = tf.keras.preprocessing.sequence.pad_sequences(input_ids, maxlen=maxlen, dtype='int32', padding='post', truncating='post')\n",
    "    segment_ids = tf.keras.preprocessing.sequence.pad_sequences(segment_ids, maxlen=maxlen, dtype='int32', padding='post', truncating='post')\n",
    "    mask_ids = tf.keras.preprocessing.sequence.pad_sequences(mask_ids, maxlen=maxlen, dtype='int32', padding='post', truncating='post')\n",
    "    return input_ids, mask_ids, segment_ids"
   ]
  },
  {
   "cell_type": "code",
   "execution_count": 10,
   "metadata": {},
   "outputs": [],
   "source": [
    "maxlen = 200\n",
    "train_features = create_inputs(train['event_content'], tokenizer, maxlen=maxlen)\n",
    "val_features = create_inputs(val['event_content'], tokenizer, maxlen=maxlen)\n",
    "test_features = create_inputs(test['event_content'], tokenizer, maxlen=maxlen)"
   ]
  },
  {
   "cell_type": "code",
   "execution_count": 11,
   "metadata": {},
   "outputs": [],
   "source": [
    "train_labels = train['importance'].values.copy()\n",
    "val_labels = val['importance'].values.copy()\n",
    "test_labels = test['importance'].values.copy()"
   ]
  },
  {
   "cell_type": "code",
   "execution_count": 12,
   "metadata": {},
   "outputs": [],
   "source": [
    "train_labels += 3\n",
    "val_labels += 3\n",
    "test_labels += 3"
   ]
  },
  {
   "cell_type": "markdown",
   "metadata": {},
   "source": [
    "# Model"
   ]
  },
  {
   "cell_type": "code",
   "execution_count": 13,
   "metadata": {},
   "outputs": [],
   "source": [
    "def build_model(bert_layer, maxlen, training=False):\n",
    "    input_word_ids = tf.keras.layers.Input(shape=(maxlen,), dtype=tf.int32, name=\"input_word_ids\")\n",
    "    input_mask = tf.keras.layers.Input(shape=(maxlen,), dtype=tf.int32, name=\"input_mask\")\n",
    "    segment_ids = tf.keras.layers.Input(shape=(maxlen,), dtype=tf.int32, name=\"segment_ids\")\n",
    "\n",
    "    _, sequence_output = bert_layer([input_word_ids, input_mask, segment_ids])\n",
    "    clf_output = sequence_output[:, 0, :]\n",
    "    out = tf.keras.layers.Dense(7, activation='softmax')(clf_output)\n",
    "\n",
    "    model = tf.keras.Model(inputs=[input_word_ids, input_mask, segment_ids], outputs=out)\n",
    "    \n",
    "    optimizer = tf.keras.optimizers.Adam(lr=2e-6)\n",
    "    loss = tf.keras.losses.SparseCategoricalCrossentropy()\n",
    "    model.compile(optimizer, loss=loss, metrics=['accuracy'])\n",
    "    return model"
   ]
  },
  {
   "cell_type": "code",
   "execution_count": 14,
   "metadata": {},
   "outputs": [
    {
     "name": "stdout",
     "output_type": "stream",
     "text": [
      "Model: \"functional_1\"\n",
      "__________________________________________________________________________________________________\n",
      "Layer (type)                    Output Shape         Param #     Connected to                     \n",
      "==================================================================================================\n",
      "input_word_ids (InputLayer)     [(None, 200)]        0                                            \n",
      "__________________________________________________________________________________________________\n",
      "input_mask (InputLayer)         [(None, 200)]        0                                            \n",
      "__________________________________________________________________________________________________\n",
      "segment_ids (InputLayer)        [(None, 200)]        0                                            \n",
      "__________________________________________________________________________________________________\n",
      "keras_layer (KerasLayer)        [(None, 768), (None, 102267649   input_word_ids[0][0]             \n",
      "                                                                 input_mask[0][0]                 \n",
      "                                                                 segment_ids[0][0]                \n",
      "__________________________________________________________________________________________________\n",
      "tf_op_layer_strided_slice (Tens [(None, 768)]        0           keras_layer[0][1]                \n",
      "__________________________________________________________________________________________________\n",
      "dense (Dense)                   (None, 7)            5383        tf_op_layer_strided_slice[0][0]  \n",
      "==================================================================================================\n",
      "Total params: 102,273,032\n",
      "Trainable params: 102,273,031\n",
      "Non-trainable params: 1\n",
      "__________________________________________________________________________________________________\n"
     ]
    }
   ],
   "source": [
    "bert_layer = hub.KerasLayer('../model/bert_zh_L-12_H-768_A-12_2/', trainable=True)\n",
    "model = build_model(bert_layer, maxlen)\n",
    "model.summary()"
   ]
  },
  {
   "cell_type": "code",
   "execution_count": null,
   "metadata": {},
   "outputs": [
    {
     "name": "stdout",
     "output_type": "stream",
     "text": [
      "Epoch 1/50\n",
      "5926/5926 [==============================] - ETA: 0s - loss: 0.4246 - accuracy: 0.8406"
     ]
    }
   ],
   "source": [
    "log_dir = \"logs/fit/watch_dog_\" + datetime.now().strftime(\"%Y%m%d\")\n",
    "tensorboard_callback = tf.keras.callbacks.TensorBoard(log_dir=log_dir, histogram_freq=1)\n",
    "\n",
    "early_stopping = tf.keras.callbacks.EarlyStopping(monitor='val_accuracy', patience=2)\n",
    "model.fit(train_features, train_labels, \n",
    "          epochs=50, \n",
    "          batch_size=4,\n",
    "          validation_data=(val_features, val_labels),\n",
    "          callbacks=[early_stopping])"
   ]
  },
  {
   "cell_type": "code",
   "execution_count": null,
   "metadata": {},
   "outputs": [],
   "source": []
  },
  {
   "cell_type": "code",
   "execution_count": null,
   "metadata": {},
   "outputs": [],
   "source": []
  },
  {
   "cell_type": "code",
   "execution_count": null,
   "metadata": {},
   "outputs": [],
   "source": []
  },
  {
   "cell_type": "code",
   "execution_count": null,
   "metadata": {},
   "outputs": [],
   "source": []
  },
  {
   "cell_type": "code",
   "execution_count": null,
   "metadata": {},
   "outputs": [],
   "source": []
  },
  {
   "cell_type": "code",
   "execution_count": null,
   "metadata": {},
   "outputs": [],
   "source": [
    "model.save('bert_whole')"
   ]
  },
  {
   "cell_type": "code",
   "execution_count": null,
   "metadata": {},
   "outputs": [],
   "source": []
  },
  {
   "cell_type": "code",
   "execution_count": null,
   "metadata": {},
   "outputs": [],
   "source": []
  },
  {
   "cell_type": "code",
   "execution_count": null,
   "metadata": {},
   "outputs": [],
   "source": []
  },
  {
   "cell_type": "code",
   "execution_count": null,
   "metadata": {},
   "outputs": [],
   "source": []
  },
  {
   "cell_type": "code",
   "execution_count": 19,
   "metadata": {},
   "outputs": [],
   "source": [
    "class Model(tf.keras.Model):\n",
    "    def __init__(self):\n",
    "        super(Model, self).__init__()\n",
    "        self.bert_layer = hub.KerasLayer('../model/bert_zh_L-12_H-768_A-12_2/', trainable=False)\n",
    "        self.fc1 = tf.keras.layers.Dense(1024, activation='relu')\n",
    "        self.fc2 = tf.keras.layers.Dense(1024, activation='relu')\n",
    "        self.fc3 = tf.keras.layers.Dense(1, activation='sigmoid')\n",
    "\n",
    "    def call(self, inputs, training=None, mask=None):\n",
    "        x = self.bert_layer(inputs)\n",
    "        x = x[:, 0, :]\n",
    "        x = self.fc1(x)\n",
    "        x = self.fc2(x)\n",
    "        x = self.fc3(x)\n",
    "        return x"
   ]
  },
  {
   "cell_type": "code",
   "execution_count": 27,
   "metadata": {},
   "outputs": [],
   "source": [
    "model = Model()\n",
    "optimizer = tf.keras.optimizers.Adam(lr=2e-6)\n",
    "loss = tf.keras.losses.BinaryCrossentropy()\n",
    "model.compile(optimizer, loss=loss, metrics=['accuracy'])"
   ]
  },
  {
   "cell_type": "code",
   "execution_count": null,
   "metadata": {},
   "outputs": [],
   "source": []
  }
 ],
 "metadata": {
  "kernelspec": {
   "display_name": "Python 3",
   "language": "python",
   "name": "python3"
  },
  "language_info": {
   "codemirror_mode": {
    "name": "ipython",
    "version": 3
   },
   "file_extension": ".py",
   "mimetype": "text/x-python",
   "name": "python",
   "nbconvert_exporter": "python",
   "pygments_lexer": "ipython3",
   "version": "3.7.4"
  }
 },
 "nbformat": 4,
 "nbformat_minor": 4
}
